{
  "cells": [
    {
      "cell_type": "markdown",
      "metadata": {
        "id": "view-in-github",
        "colab_type": "text"
      },
      "source": [
        "<a href=\"https://colab.research.google.com/github/GokulsandyGs/gokul.A14/blob/main/Untitled1.ipynb\" target=\"_parent\"><img src=\"https://colab.research.google.com/assets/colab-badge.svg\" alt=\"Open In Colab\"/></a>"
      ]
    },
    {
      "cell_type": "code",
      "execution_count": null,
      "metadata": {
        "colab": {
          "base_uri": "https://localhost:8080/"
        },
        "id": "EsS_XioiEJOn",
        "outputId": "a8f7a993-e65c-43d8-f27b-a5577f94f734"
      },
      "outputs": [
        {
          "output_type": "stream",
          "name": "stdout",
          "text": [
            "Choice 1: Add, 2: Sub, 3: Div, 4: Mul, 5: Quit\n",
            "Enter the choice of operation :3\n",
            " You have chosen division Option :\n",
            " Enter the value for A :30\n",
            " Enter the value for B :20\n",
            "The Result 30 / 20 = 1.5\n"
          ]
        }
      ],
      "source": [
        "print (\"Choice 1: Add, 2: Sub, 3: Div, 4: Mul, 5: Quit\")\n",
        "n1 = input(\"Enter the choice of operation :\")\n",
        "n = int(n1)\n",
        "if (n == 1):\n",
        "    print (\" You have chosen addition Option :\")\n",
        "    a1 = input(\" Enter the value for A :\")\n",
        "    b1 = input(\" Enter the value for B :\")\n",
        "    a = int(a1)\n",
        "    b = int(b1)\n",
        "    c = a + b\n",
        "    print (\"The Result\",a,\"+\",b,\"=\",c)\n",
        "elif (n == 2):\n",
        "    print (\" You have chosen subtraction Option :\")\n",
        "    a1 = input(\" Enter the value for A :\")\n",
        "    b1 = input(\" Enter the value for B :\")\n",
        "    a = int(a1)\n",
        "    b = int(b1)\n",
        "    c = a - b\n",
        "    print (\"The Result\",a,\"-\",b,\"=\",c)\n",
        "elif (n == 3):\n",
        "    print (\" You have chosen division Option :\")\n",
        "    a1 = input(\" Enter the value for A :\")\n",
        "    b1 = input(\" Enter the value for B :\")\n",
        "    a = int(a1)\n",
        "    b = int(b1)\n",
        "    c = a / b\n",
        "    print (\"The Result\",a,\"/\",b,\"=\",c)\n",
        "elif (n == 4):\n",
        "    print (\" You have chosen multiplication Option :\")\n",
        "    a1 = input (\" Enter the value for A :\")\n",
        "    b1 = input (\" Enter the value for B :\")\n",
        "    a = int (a1)\n",
        "    b = int (b1)\n",
        "    c = a * b\n",
        "    print (\"The Result\",a,\"*\",b,\"=\",c)\n",
        "elif (n==5):\n",
        "    print (\" You have given a wrong :\",n)\n",
        "    exit ()"
      ]
    }
  ],
  "metadata": {
    "colab": {
      "collapsed_sections": [],
      "name": "Untitled1.ipynb",
      "toc_visible": true,
      "provenance": [],
      "authorship_tag": "ABX9TyPF0pAXiOb/uLHRolflvZ1A",
      "include_colab_link": true
    },
    "kernelspec": {
      "display_name": "Python 3",
      "name": "python3"
    },
    "language_info": {
      "name": "python"
    }
  },
  "nbformat": 4,
  "nbformat_minor": 0
}